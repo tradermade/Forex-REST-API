{
  "nbformat": 4,
  "nbformat_minor": 0,
  "metadata": {
    "colab": {
      "name": "TraderMadeForexAPI.ipynb",
      "provenance": [],
      "authorship_tag": "ABX9TyNf5W8ViwuBnb/X2zrkIadT",
      "include_colab_link": true
    },
    "kernelspec": {
      "name": "python3",
      "display_name": "Python 3"
    },
    "language_info": {
      "name": "python"
    }
  },
  "cells": [
    {
      "cell_type": "markdown",
      "metadata": {
        "id": "view-in-github",
        "colab_type": "text"
      },
      "source": [
        "<a href=\"https://colab.research.google.com/github/rahulkhn/MarketDataAPI/blob/master/TraderMadeForexAPI.ipynb\" target=\"_parent\"><img src=\"https://colab.research.google.com/assets/colab-badge.svg\" alt=\"Open In Colab\"/></a>"
      ]
    },
    {
      "cell_type": "code",
      "metadata": {
        "id": "2CS7I2xlREn5"
      },
      "source": [
        "import requests\n",
        "from pprint import PrettyPrinter\n",
        "import numpy as np\n",
        "import pandas as pd\n",
        "pp = PrettyPrinter()"
      ],
      "execution_count": null,
      "outputs": []
    },
    {
      "cell_type": "code",
      "metadata": {
        "colab": {
          "base_uri": "https://localhost:8080/"
        },
        "id": "Mv8fBAvwTipO",
        "outputId": "44df37ad-839e-4ee4-daac-c669ba52e399"
      },
      "source": [
        "url = \"https://marketdata.tradermade.com/api/v1/live\"\n",
        "\n",
        "currency = \"USDJPY,GBPUSD,UK100\"\n",
        "api_key = \"api_key\"\n",
        "querystring = {\"currency\":currency,\"api_key\":api_key}\n",
        "\n",
        "response = requests.get(url, params=querystring)\n",
        "\n",
        "pp.pprint(response.json())"
      ],
      "execution_count": null,
      "outputs": [
        {
          "output_type": "stream",
          "text": [
            "{'endpoint': 'live',\n",
            " 'quotes': [{'ask': 108.774,\n",
            "             'base_currency': 'USD',\n",
            "             'bid': 108.773,\n",
            "             'mid': 108.7735,\n",
            "             'quote_currency': 'JPY'},\n",
            "            {'ask': 1.38048,\n",
            "             'base_currency': 'GBP',\n",
            "             'bid': 1.38046,\n",
            "             'mid': 1.38047,\n",
            "             'quote_currency': 'USD'},\n",
            "            {'ask': 6709.4,\n",
            "             'bid': 6708.1,\n",
            "             'instrument': 'UK100',\n",
            "             'mid': 6708.75}],\n",
            " 'requested_time': 'Tue, 23 Mar 2021 09:12:55 GMT',\n",
            " 'timestamp': 1616490776}\n"
          ],
          "name": "stdout"
        }
      ]
    },
    {
      "cell_type": "code",
      "metadata": {
        "colab": {
          "base_uri": "https://localhost:8080/",
          "height": 136
        },
        "id": "t3BmpCnXDLWA",
        "outputId": "2c884995-0d0a-48fd-9895-259cf3714da4"
      },
      "source": [
        "import pandas as pd\n",
        "df = pd.DataFrame(response.json()[\"quotes\"])\n",
        "df"
      ],
      "execution_count": null,
      "outputs": [
        {
          "output_type": "execute_result",
          "data": {
            "text/html": [
              "<div>\n",
              "<style scoped>\n",
              "    .dataframe tbody tr th:only-of-type {\n",
              "        vertical-align: middle;\n",
              "    }\n",
              "\n",
              "    .dataframe tbody tr th {\n",
              "        vertical-align: top;\n",
              "    }\n",
              "\n",
              "    .dataframe thead th {\n",
              "        text-align: right;\n",
              "    }\n",
              "</style>\n",
              "<table border=\"1\" class=\"dataframe\">\n",
              "  <thead>\n",
              "    <tr style=\"text-align: right;\">\n",
              "      <th></th>\n",
              "      <th>ask</th>\n",
              "      <th>base_currency</th>\n",
              "      <th>bid</th>\n",
              "      <th>mid</th>\n",
              "      <th>quote_currency</th>\n",
              "      <th>instrument</th>\n",
              "    </tr>\n",
              "  </thead>\n",
              "  <tbody>\n",
              "    <tr>\n",
              "      <th>0</th>\n",
              "      <td>108.78200</td>\n",
              "      <td>USD</td>\n",
              "      <td>108.78200</td>\n",
              "      <td>108.78200</td>\n",
              "      <td>JPY</td>\n",
              "      <td>NaN</td>\n",
              "    </tr>\n",
              "    <tr>\n",
              "      <th>1</th>\n",
              "      <td>1.38657</td>\n",
              "      <td>GBP</td>\n",
              "      <td>1.38655</td>\n",
              "      <td>1.38656</td>\n",
              "      <td>USD</td>\n",
              "      <td>NaN</td>\n",
              "    </tr>\n",
              "    <tr>\n",
              "      <th>2</th>\n",
              "      <td>6717.10000</td>\n",
              "      <td>NaN</td>\n",
              "      <td>6715.70000</td>\n",
              "      <td>6716.39990</td>\n",
              "      <td>NaN</td>\n",
              "      <td>UK100</td>\n",
              "    </tr>\n",
              "  </tbody>\n",
              "</table>\n",
              "</div>"
            ],
            "text/plain": [
              "          ask base_currency         bid         mid quote_currency instrument\n",
              "0   108.78200           USD   108.78200   108.78200            JPY        NaN\n",
              "1     1.38657           GBP     1.38655     1.38656            USD        NaN\n",
              "2  6717.10000           NaN  6715.70000  6716.39990            NaN      UK100"
            ]
          },
          "metadata": {
            "tags": []
          },
          "execution_count": 16
        }
      ]
    },
    {
      "cell_type": "code",
      "metadata": {
        "colab": {
          "base_uri": "https://localhost:8080/",
          "height": 136
        },
        "id": "S5Nr9OsvVI9s",
        "outputId": "595e3b58-72f6-4c24-9c64-0738ce949b5e"
      },
      "source": [
        "df = pd.DataFrame(response.json()[\"quotes\"])\n",
        "df[\"instrument\"] = np.where(df[\"base_currency\"].isnull(),df[\"instrument\"],\n",
        "                            df[\"base_currency\"]+df[\"quote_currency\"])\n",
        "df[\"timestamp\"] = response.json()[\"timestamp\"]\n",
        "df[\"timestamp\"] = pd.to_datetime(df[\"timestamp\"], unit=\"s\")\n",
        "df = df[[\"instrument\",\"bid\",\"mid\",\"ask\",\"timestamp\"]]\n",
        "df"
      ],
      "execution_count": null,
      "outputs": [
        {
          "output_type": "execute_result",
          "data": {
            "text/html": [
              "<div>\n",
              "<style scoped>\n",
              "    .dataframe tbody tr th:only-of-type {\n",
              "        vertical-align: middle;\n",
              "    }\n",
              "\n",
              "    .dataframe tbody tr th {\n",
              "        vertical-align: top;\n",
              "    }\n",
              "\n",
              "    .dataframe thead th {\n",
              "        text-align: right;\n",
              "    }\n",
              "</style>\n",
              "<table border=\"1\" class=\"dataframe\">\n",
              "  <thead>\n",
              "    <tr style=\"text-align: right;\">\n",
              "      <th></th>\n",
              "      <th>instrument</th>\n",
              "      <th>bid</th>\n",
              "      <th>mid</th>\n",
              "      <th>ask</th>\n",
              "      <th>timestamp</th>\n",
              "    </tr>\n",
              "  </thead>\n",
              "  <tbody>\n",
              "    <tr>\n",
              "      <th>0</th>\n",
              "      <td>USDJPY</td>\n",
              "      <td>108.76200</td>\n",
              "      <td>108.76250</td>\n",
              "      <td>108.76300</td>\n",
              "      <td>2021-03-22 17:42:59</td>\n",
              "    </tr>\n",
              "    <tr>\n",
              "      <th>1</th>\n",
              "      <td>GBPUSD</td>\n",
              "      <td>1.38678</td>\n",
              "      <td>1.38678</td>\n",
              "      <td>1.38678</td>\n",
              "      <td>2021-03-22 17:42:59</td>\n",
              "    </tr>\n",
              "    <tr>\n",
              "      <th>2</th>\n",
              "      <td>UK100</td>\n",
              "      <td>6721.20000</td>\n",
              "      <td>6721.89990</td>\n",
              "      <td>6722.60000</td>\n",
              "      <td>2021-03-22 17:42:59</td>\n",
              "    </tr>\n",
              "  </tbody>\n",
              "</table>\n",
              "</div>"
            ],
            "text/plain": [
              "  instrument         bid         mid         ask           timestamp\n",
              "0     USDJPY   108.76200   108.76250   108.76300 2021-03-22 17:42:59\n",
              "1     GBPUSD     1.38678     1.38678     1.38678 2021-03-22 17:42:59\n",
              "2      UK100  6721.20000  6721.89990  6722.60000 2021-03-22 17:42:59"
            ]
          },
          "metadata": {
            "tags": []
          },
          "execution_count": 10
        }
      ]
    },
    {
      "cell_type": "code",
      "metadata": {
        "colab": {
          "base_uri": "https://localhost:8080/",
          "height": 195
        },
        "id": "FqSxlwfBCUj_",
        "outputId": "90a9b8f6-1c98-42ff-89d6-764f31b465dd"
      },
      "source": [
        "df.T"
      ],
      "execution_count": null,
      "outputs": [
        {
          "output_type": "execute_result",
          "data": {
            "text/html": [
              "<div>\n",
              "<style scoped>\n",
              "    .dataframe tbody tr th:only-of-type {\n",
              "        vertical-align: middle;\n",
              "    }\n",
              "\n",
              "    .dataframe tbody tr th {\n",
              "        vertical-align: top;\n",
              "    }\n",
              "\n",
              "    .dataframe thead th {\n",
              "        text-align: right;\n",
              "    }\n",
              "</style>\n",
              "<table border=\"1\" class=\"dataframe\">\n",
              "  <thead>\n",
              "    <tr style=\"text-align: right;\">\n",
              "      <th></th>\n",
              "      <th>0</th>\n",
              "      <th>1</th>\n",
              "      <th>2</th>\n",
              "    </tr>\n",
              "  </thead>\n",
              "  <tbody>\n",
              "    <tr>\n",
              "      <th>instrument</th>\n",
              "      <td>USDJPY</td>\n",
              "      <td>GBPUSD</td>\n",
              "      <td>UK100</td>\n",
              "    </tr>\n",
              "    <tr>\n",
              "      <th>bid</th>\n",
              "      <td>108.697</td>\n",
              "      <td>1.38638</td>\n",
              "      <td>6722.6</td>\n",
              "    </tr>\n",
              "    <tr>\n",
              "      <th>mid</th>\n",
              "      <td>108.698</td>\n",
              "      <td>1.38639</td>\n",
              "      <td>6723.35</td>\n",
              "    </tr>\n",
              "    <tr>\n",
              "      <th>ask</th>\n",
              "      <td>108.698</td>\n",
              "      <td>1.3864</td>\n",
              "      <td>6724.1</td>\n",
              "    </tr>\n",
              "    <tr>\n",
              "      <th>timestamp</th>\n",
              "      <td>2021-03-22 16:29:11</td>\n",
              "      <td>2021-03-22 16:29:11</td>\n",
              "      <td>2021-03-22 16:29:11</td>\n",
              "    </tr>\n",
              "  </tbody>\n",
              "</table>\n",
              "</div>"
            ],
            "text/plain": [
              "                              0                    1                    2\n",
              "instrument               USDJPY               GBPUSD                UK100\n",
              "bid                     108.697              1.38638               6722.6\n",
              "mid                     108.698              1.38639              6723.35\n",
              "ask                     108.698               1.3864               6724.1\n",
              "timestamp   2021-03-22 16:29:11  2021-03-22 16:29:11  2021-03-22 16:29:11"
            ]
          },
          "metadata": {
            "tags": []
          },
          "execution_count": 6
        }
      ]
    },
    {
      "cell_type": "code",
      "metadata": {
        "id": "bqpdVXEULKmW"
      },
      "source": [
        "df.to_csv('live_rates.csv')"
      ],
      "execution_count": null,
      "outputs": []
    },
    {
      "cell_type": "code",
      "metadata": {
        "colab": {
          "base_uri": "https://localhost:8080/",
          "height": 136
        },
        "id": "AV7BblClRqZx",
        "outputId": "f1ff4902-47dc-43fe-e484-b78e76818643"
      },
      "source": [
        "url = \"https://marketdata.tradermade.com/api/v1/historical\"\n",
        "date = \"2021-03-15\"\n",
        "querystring = {\"currency\":currency,\"date\":date, \"api_key\":api_key}\n",
        "response = requests.get(url, params=querystring)\n",
        "\n",
        "df = pd.DataFrame(response.json()[\"quotes\"])\n",
        "df[\"instrument\"] = np.where(df[\"base_currency\"].isnull(),df[\"instrument\"],\n",
        "                            df[\"base_currency\"]+df[\"quote_currency\"])\n",
        "df[\"date\"] = response.json()[\"date\"]\n",
        "df[\"date\"] = pd.to_datetime(df[\"date\"])\n",
        "df = df[[\"instrument\",\"open\",\"high\",\"low\", \"close\",\"date\"]]\n",
        "df"
      ],
      "execution_count": null,
      "outputs": [
        {
          "output_type": "execute_result",
          "data": {
            "text/html": [
              "<div>\n",
              "<style scoped>\n",
              "    .dataframe tbody tr th:only-of-type {\n",
              "        vertical-align: middle;\n",
              "    }\n",
              "\n",
              "    .dataframe tbody tr th {\n",
              "        vertical-align: top;\n",
              "    }\n",
              "\n",
              "    .dataframe thead th {\n",
              "        text-align: right;\n",
              "    }\n",
              "</style>\n",
              "<table border=\"1\" class=\"dataframe\">\n",
              "  <thead>\n",
              "    <tr style=\"text-align: right;\">\n",
              "      <th></th>\n",
              "      <th>instrument</th>\n",
              "      <th>open</th>\n",
              "      <th>high</th>\n",
              "      <th>low</th>\n",
              "      <th>close</th>\n",
              "      <th>date</th>\n",
              "    </tr>\n",
              "  </thead>\n",
              "  <tbody>\n",
              "    <tr>\n",
              "      <th>0</th>\n",
              "      <td>USDJPY</td>\n",
              "      <td>109.01950</td>\n",
              "      <td>109.36700</td>\n",
              "      <td>108.91500</td>\n",
              "      <td>109.15650</td>\n",
              "      <td>2021-03-15</td>\n",
              "    </tr>\n",
              "    <tr>\n",
              "      <th>1</th>\n",
              "      <td>GBPUSD</td>\n",
              "      <td>1.39208</td>\n",
              "      <td>1.39501</td>\n",
              "      <td>1.38534</td>\n",
              "      <td>1.39003</td>\n",
              "      <td>2021-03-15</td>\n",
              "    </tr>\n",
              "    <tr>\n",
              "      <th>2</th>\n",
              "      <td>UK100</td>\n",
              "      <td>6786.10010</td>\n",
              "      <td>6798.29980</td>\n",
              "      <td>6716.70020</td>\n",
              "      <td>6764.29980</td>\n",
              "      <td>2021-03-15</td>\n",
              "    </tr>\n",
              "  </tbody>\n",
              "</table>\n",
              "</div>"
            ],
            "text/plain": [
              "  instrument        open        high         low       close       date\n",
              "0     USDJPY   109.01950   109.36700   108.91500   109.15650 2021-03-15\n",
              "1     GBPUSD     1.39208     1.39501     1.38534     1.39003 2021-03-15\n",
              "2      UK100  6786.10010  6798.29980  6716.70020  6764.29980 2021-03-15"
            ]
          },
          "metadata": {
            "tags": []
          },
          "execution_count": 11
        }
      ]
    },
    {
      "cell_type": "code",
      "metadata": {
        "colab": {
          "base_uri": "https://localhost:8080/",
          "height": 106
        },
        "id": "EGSfOwthF_e_",
        "outputId": "e5079c29-1f0c-4f09-9cb7-3748790299aa"
      },
      "source": [
        "fx = [\"EURUSD\", \"USDJPY\"]\n",
        "dates = [\"2021-03-15-13:00\"]\n",
        "array = []\n",
        "url = \"https://marketdata.tradermade.com/api/v1/minute_historical\"\n",
        "\n",
        "for i in fx:\n",
        "    for date in dates: \n",
        "        querystring = {\"currency\":i,\"date_time\":date, \"api_key\":api_key}\n",
        "        response = requests.get(url, params=querystring)\n",
        "        array.append(response.json())\n",
        "df = pd.DataFrame(array)\n",
        "df"
      ],
      "execution_count": null,
      "outputs": [
        {
          "output_type": "execute_result",
          "data": {
            "text/html": [
              "<div>\n",
              "<style scoped>\n",
              "    .dataframe tbody tr th:only-of-type {\n",
              "        vertical-align: middle;\n",
              "    }\n",
              "\n",
              "    .dataframe tbody tr th {\n",
              "        vertical-align: top;\n",
              "    }\n",
              "\n",
              "    .dataframe thead th {\n",
              "        text-align: right;\n",
              "    }\n",
              "</style>\n",
              "<table border=\"1\" class=\"dataframe\">\n",
              "  <thead>\n",
              "    <tr style=\"text-align: right;\">\n",
              "      <th></th>\n",
              "      <th>close</th>\n",
              "      <th>currency</th>\n",
              "      <th>date_time</th>\n",
              "      <th>endpoint</th>\n",
              "      <th>high</th>\n",
              "      <th>low</th>\n",
              "      <th>open</th>\n",
              "      <th>request_time</th>\n",
              "    </tr>\n",
              "  </thead>\n",
              "  <tbody>\n",
              "    <tr>\n",
              "      <th>0</th>\n",
              "      <td>1.19241</td>\n",
              "      <td>EURUSD</td>\n",
              "      <td>2021-03-15-13:00</td>\n",
              "      <td>minute_historical</td>\n",
              "      <td>1.19256</td>\n",
              "      <td>1.19234</td>\n",
              "      <td>1.19248</td>\n",
              "      <td>Mon, 22 Mar 2021 18:06:37 GMT</td>\n",
              "    </tr>\n",
              "    <tr>\n",
              "      <th>1</th>\n",
              "      <td>109.16900</td>\n",
              "      <td>USDJPY</td>\n",
              "      <td>2021-03-15-13:00</td>\n",
              "      <td>minute_historical</td>\n",
              "      <td>109.17350</td>\n",
              "      <td>109.15700</td>\n",
              "      <td>109.16000</td>\n",
              "      <td>Mon, 22 Mar 2021 18:06:38 GMT</td>\n",
              "    </tr>\n",
              "  </tbody>\n",
              "</table>\n",
              "</div>"
            ],
            "text/plain": [
              "       close currency  ...       open                   request_time\n",
              "0    1.19241   EURUSD  ...    1.19248  Mon, 22 Mar 2021 18:06:37 GMT\n",
              "1  109.16900   USDJPY  ...  109.16000  Mon, 22 Mar 2021 18:06:38 GMT\n",
              "\n",
              "[2 rows x 8 columns]"
            ]
          },
          "metadata": {
            "tags": []
          },
          "execution_count": 14
        }
      ]
    },
    {
      "cell_type": "code",
      "metadata": {
        "colab": {
          "base_uri": "https://localhost:8080/",
          "height": 195
        },
        "id": "eTkXsQPqMWrd",
        "outputId": "8cba6d50-7b18-4f1f-c00b-2ec53e4d200b"
      },
      "source": [
        "url = \"https://marketdata.tradermade.com/api/v1/timeseries?\"\n",
        "currency=\"USDJPY\"\n",
        "start_date=\"2021-03-17-13:00\"\n",
        "end_date=\"2021-03-22-13:00\"\n",
        "format=\"split\"\n",
        "interval=\"hourly\"\n",
        "\n",
        "df =pd.read_json('https://marketdata.tradermade.com/api/v1/timeseries?currency='\n",
        "                +currency+'&api_key='+api_key+'&start_date='+start_date+'&end_date='\n",
        "                +end_date+'&format='+format+'&interval='+interval)\n",
        "df = pd.DataFrame(df.quotes['data'], columns=df.quotes['columns'])\n",
        "df.tail()"
      ],
      "execution_count": null,
      "outputs": [
        {
          "output_type": "execute_result",
          "data": {
            "text/html": [
              "<div>\n",
              "<style scoped>\n",
              "    .dataframe tbody tr th:only-of-type {\n",
              "        vertical-align: middle;\n",
              "    }\n",
              "\n",
              "    .dataframe tbody tr th {\n",
              "        vertical-align: top;\n",
              "    }\n",
              "\n",
              "    .dataframe thead th {\n",
              "        text-align: right;\n",
              "    }\n",
              "</style>\n",
              "<table border=\"1\" class=\"dataframe\">\n",
              "  <thead>\n",
              "    <tr style=\"text-align: right;\">\n",
              "      <th></th>\n",
              "      <th>date</th>\n",
              "      <th>open</th>\n",
              "      <th>high</th>\n",
              "      <th>low</th>\n",
              "      <th>close</th>\n",
              "    </tr>\n",
              "  </thead>\n",
              "  <tbody>\n",
              "    <tr>\n",
              "      <th>68</th>\n",
              "      <td>2021-03-22 09:00:00</td>\n",
              "      <td>108.6740</td>\n",
              "      <td>108.6925</td>\n",
              "      <td>108.6205</td>\n",
              "      <td>108.6530</td>\n",
              "    </tr>\n",
              "    <tr>\n",
              "      <th>69</th>\n",
              "      <td>2021-03-22 10:00:00</td>\n",
              "      <td>108.6545</td>\n",
              "      <td>108.7885</td>\n",
              "      <td>108.6335</td>\n",
              "      <td>108.7400</td>\n",
              "    </tr>\n",
              "    <tr>\n",
              "      <th>70</th>\n",
              "      <td>2021-03-22 11:00:00</td>\n",
              "      <td>108.7390</td>\n",
              "      <td>108.7450</td>\n",
              "      <td>108.6490</td>\n",
              "      <td>108.7005</td>\n",
              "    </tr>\n",
              "    <tr>\n",
              "      <th>71</th>\n",
              "      <td>2021-03-22 12:00:00</td>\n",
              "      <td>108.7020</td>\n",
              "      <td>108.8615</td>\n",
              "      <td>108.6890</td>\n",
              "      <td>108.8260</td>\n",
              "    </tr>\n",
              "    <tr>\n",
              "      <th>72</th>\n",
              "      <td>2021-03-22 13:00:00</td>\n",
              "      <td>108.8250</td>\n",
              "      <td>108.8460</td>\n",
              "      <td>108.7420</td>\n",
              "      <td>108.7705</td>\n",
              "    </tr>\n",
              "  </tbody>\n",
              "</table>\n",
              "</div>"
            ],
            "text/plain": [
              "                   date      open      high       low     close\n",
              "68  2021-03-22 09:00:00  108.6740  108.6925  108.6205  108.6530\n",
              "69  2021-03-22 10:00:00  108.6545  108.7885  108.6335  108.7400\n",
              "70  2021-03-22 11:00:00  108.7390  108.7450  108.6490  108.7005\n",
              "71  2021-03-22 12:00:00  108.7020  108.8615  108.6890  108.8260\n",
              "72  2021-03-22 13:00:00  108.8250  108.8460  108.7420  108.7705"
            ]
          },
          "metadata": {
            "tags": []
          },
          "execution_count": 31
        }
      ]
    },
    {
      "cell_type": "code",
      "metadata": {
        "colab": {
          "base_uri": "https://localhost:8080/",
          "height": 195
        },
        "id": "ZXVvMf_kWyGx",
        "outputId": "7e93cb34-cb52-4821-ee39-23ea6bab4fa1"
      },
      "source": [
        "currency=\"EURUSD\"\n",
        "start_date=\"2021-03-22%2014:00\"\n",
        "end_date=\"2021-03-22%2014:30\"\n",
        "format=\"csv\"\n",
        "\n",
        "url = \"https://marketdata.tradermade.com/api/v1/tick_historical_sample/\"+currency+\"/\"+start_date+\"/\"+end_date+\"?api_key=\"+api_key+\"&format=\"+format\n",
        "\n",
        "df =pd.read_csv(url)\n",
        "\n",
        "df.tail()"
      ],
      "execution_count": null,
      "outputs": [
        {
          "output_type": "execute_result",
          "data": {
            "text/html": [
              "<div>\n",
              "<style scoped>\n",
              "    .dataframe tbody tr th:only-of-type {\n",
              "        vertical-align: middle;\n",
              "    }\n",
              "\n",
              "    .dataframe tbody tr th {\n",
              "        vertical-align: top;\n",
              "    }\n",
              "\n",
              "    .dataframe thead th {\n",
              "        text-align: right;\n",
              "    }\n",
              "</style>\n",
              "<table border=\"1\" class=\"dataframe\">\n",
              "  <thead>\n",
              "    <tr style=\"text-align: right;\">\n",
              "      <th></th>\n",
              "      <th>time</th>\n",
              "      <th>inst</th>\n",
              "      <th>bid</th>\n",
              "      <th>ask</th>\n",
              "    </tr>\n",
              "  </thead>\n",
              "  <tbody>\n",
              "    <tr>\n",
              "      <th>1983</th>\n",
              "      <td>2021-03-22 14:29:57.530000+00:00</td>\n",
              "      <td>EURUSD</td>\n",
              "      <td>1.19177</td>\n",
              "      <td>1.1917</td>\n",
              "    </tr>\n",
              "    <tr>\n",
              "      <th>1984</th>\n",
              "      <td>2021-03-22 14:29:57.829000+00:00</td>\n",
              "      <td>EURUSD</td>\n",
              "      <td>1.19178</td>\n",
              "      <td>1.1917</td>\n",
              "    </tr>\n",
              "    <tr>\n",
              "      <th>1985</th>\n",
              "      <td>2021-03-22 14:29:58.131000+00:00</td>\n",
              "      <td>EURUSD</td>\n",
              "      <td>1.19179</td>\n",
              "      <td>1.1917</td>\n",
              "    </tr>\n",
              "    <tr>\n",
              "      <th>1986</th>\n",
              "      <td>2021-03-22 14:29:59.623000+00:00</td>\n",
              "      <td>EURUSD</td>\n",
              "      <td>1.19178</td>\n",
              "      <td>1.1917</td>\n",
              "    </tr>\n",
              "    <tr>\n",
              "      <th>1987</th>\n",
              "      <td>2021-03-22 14:29:59.928000+00:00</td>\n",
              "      <td>EURUSD</td>\n",
              "      <td>1.19179</td>\n",
              "      <td>1.1917</td>\n",
              "    </tr>\n",
              "  </tbody>\n",
              "</table>\n",
              "</div>"
            ],
            "text/plain": [
              "                                  time    inst      bid     ask\n",
              "1983  2021-03-22 14:29:57.530000+00:00  EURUSD  1.19177  1.1917\n",
              "1984  2021-03-22 14:29:57.829000+00:00  EURUSD  1.19178  1.1917\n",
              "1985  2021-03-22 14:29:58.131000+00:00  EURUSD  1.19179  1.1917\n",
              "1986  2021-03-22 14:29:59.623000+00:00  EURUSD  1.19178  1.1917\n",
              "1987  2021-03-22 14:29:59.928000+00:00  EURUSD  1.19179  1.1917"
            ]
          },
          "metadata": {
            "tags": []
          },
          "execution_count": 43
        }
      ]
    },
    {
      "cell_type": "markdown",
      "metadata": {
        "id": "Pl2Z4-k7_h8f"
      },
      "source": [
        ""
      ]
    }
  ]
}
